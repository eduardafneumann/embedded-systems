{
  "nbformat": 4,
  "nbformat_minor": 0,
  "metadata": {
    "colab": {
      "provenance": []
    },
    "kernelspec": {
      "name": "python3",
      "display_name": "Python 3"
    },
    "language_info": {
      "name": "python"
    }
  },
  "cells": [
    {
      "cell_type": "code",
      "execution_count": null,
      "metadata": {
        "id": "TBhJUlqr9DwR"
      },
      "outputs": [],
      "source": [
        "import tensorflow as tf\n",
        "from tensorflow.keras import datasets, layers, models\n",
        "import matplotlib.pyplot as plt\n",
        "import struct\n",
        "import numpy as np\n",
        "import math"
      ]
    },
    {
      "cell_type": "markdown",
      "source": [
        "# Defining and training the CNN"
      ],
      "metadata": {
        "id": "9kJFEO9M2yYC"
      }
    },
    {
      "cell_type": "code",
      "source": [
        "(train_images, train_labels), (test_images, test_labels) = datasets.mnist.load_data()\n",
        "\n",
        "train_images = train_images / 255.0\n",
        "test_images = test_images / 255.0\n",
        "\n",
        "train_images = train_images.reshape((train_images.shape[0], 28, 28, 1))\n",
        "test_images = test_images.reshape((test_images.shape[0], 28, 28, 1))"
      ],
      "metadata": {
        "id": "ggvCERJe9Ogv"
      },
      "execution_count": null,
      "outputs": []
    },
    {
      "cell_type": "code",
      "source": [
        "model = models.Sequential()\n",
        "model.add(layers.Conv2D(1, (3, 3), activation='relu', input_shape=(28, 28, 1), use_bias=False))\n",
        "model.add(layers.Conv2D(1, (3, 3), activation='relu', input_shape=(26, 26, 1), use_bias=False))\n",
        "model.add(layers.Conv2D(1, (3, 3), activation='relu', input_shape=(24, 24, 1), use_bias=False))\n",
        "model.add(layers.Flatten())\n",
        "model.add(layers.Dense(10, activation='softmax', use_bias=False))"
      ],
      "metadata": {
        "id": "h9rbB2HR9gf-"
      },
      "execution_count": null,
      "outputs": []
    },
    {
      "cell_type": "code",
      "source": [
        "model.compile(optimizer='adam',\n",
        "              loss='sparse_categorical_crossentropy',\n",
        "              metrics=['accuracy'])"
      ],
      "metadata": {
        "id": "fHXfw9S--tEx"
      },
      "execution_count": null,
      "outputs": []
    },
    {
      "cell_type": "code",
      "source": [
        "history = model.fit(train_images, train_labels, epochs=6,\n",
        "                    validation_data=(test_images, test_labels))"
      ],
      "metadata": {
        "colab": {
          "base_uri": "https://localhost:8080/"
        },
        "id": "w0PrLe-f-vzK",
        "outputId": "c8e905cd-50ec-4e36-d2b6-01c61280c621"
      },
      "execution_count": null,
      "outputs": [
        {
          "output_type": "stream",
          "name": "stdout",
          "text": [
            "Epoch 1/6\n",
            "1875/1875 [==============================] - 27s 14ms/step - loss: 0.5369 - accuracy: 0.8430 - val_loss: 0.3214 - val_accuracy: 0.9079\n",
            "Epoch 2/6\n",
            "1875/1875 [==============================] - 26s 14ms/step - loss: 0.3156 - accuracy: 0.9103 - val_loss: 0.2873 - val_accuracy: 0.9206\n",
            "Epoch 3/6\n",
            "1875/1875 [==============================] - 28s 15ms/step - loss: 0.2971 - accuracy: 0.9169 - val_loss: 0.2750 - val_accuracy: 0.9253\n",
            "Epoch 4/6\n",
            "1875/1875 [==============================] - 27s 14ms/step - loss: 0.2841 - accuracy: 0.9200 - val_loss: 0.2721 - val_accuracy: 0.9229\n",
            "Epoch 5/6\n",
            "1875/1875 [==============================] - 25s 14ms/step - loss: 0.2757 - accuracy: 0.9233 - val_loss: 0.2641 - val_accuracy: 0.9269\n",
            "Epoch 6/6\n",
            "1875/1875 [==============================] - 25s 14ms/step - loss: 0.2673 - accuracy: 0.9246 - val_loss: 0.2585 - val_accuracy: 0.9295\n"
          ]
        }
      ]
    },
    {
      "cell_type": "code",
      "source": [
        "test_loss, test_acc = model.evaluate(test_images, test_labels)\n",
        "print(f\"Test accuracy: {test_acc}\")"
      ],
      "metadata": {
        "colab": {
          "base_uri": "https://localhost:8080/"
        },
        "id": "rstWTNxePCNC",
        "outputId": "6c84e814-415c-4f0f-baca-6757c6a5d2fe"
      },
      "execution_count": null,
      "outputs": [
        {
          "output_type": "stream",
          "name": "stdout",
          "text": [
            "313/313 [==============================] - 2s 6ms/step - loss: 0.2585 - accuracy: 0.9295\n",
            "Test accuracy: 0.9294999837875366\n"
          ]
        }
      ]
    },
    {
      "cell_type": "code",
      "source": [
        "plt.plot(history.history['loss'])\n",
        "plt.xlabel('Época')\n",
        "plt.ylabel('Perda')\n",
        "plt.title('Perda durante as épocas do treinamento')\n",
        "plt.show()"
      ],
      "metadata": {
        "colab": {
          "base_uri": "https://localhost:8080/",
          "height": 474
        },
        "id": "WQi-gYxFJ6Nm",
        "outputId": "694098f8-2597-4093-ee1a-423209a4e338"
      },
      "execution_count": null,
      "outputs": [
        {
          "output_type": "display_data",
          "data": {
            "text/plain": [
              "<Figure size 640x480 with 1 Axes>"
            ],
            "image/png": "[encoded data removed]"
          },
          "metadata": {}
        }
      ]
    },
    {
      "cell_type": "code",
      "source": [
        "plt.plot(history.history['accuracy'])\n",
        "plt.xlabel('Época')\n",
        "plt.ylabel('Acurácia')\n",
        "plt.title('Acurácia durante as épocas do treinamento')\n",
        "plt.show()"
      ],
      "metadata": {
        "colab": {
          "base_uri": "https://localhost:8080/",
          "height": 474
        },
        "id": "wP4ryn7iLm24",
        "outputId": "e8b0e0af-f9ed-4fae-d16b-1cc51ab96e82"
      },
      "execution_count": null,
      "outputs": [
        {
          "output_type": "display_data",
          "data": {
            "text/plain": [
              "<Figure size 640x480 with 1 Axes>"
            ],
            "image/png": "[encoded data removed]"
          },
          "metadata": {}
        }
      ]
    },
    {
      "cell_type": "code",
      "source": [
        "model.save_weights('model.h5')\n",
        "# model = models.load_model('model.h5')"
      ],
      "metadata": {
        "id": "PqRzu1ZMRU3C"
      },
      "execution_count": null,
      "outputs": []
    },
    {
      "cell_type": "markdown",
      "source": [
        "# Saving the weights and images in customized format"
      ],
      "metadata": {
        "id": "mGowlc9522Jx"
      }
    },
    {
      "cell_type": "code",
      "source": [
        "first_convolution = model.layers[0].get_weights()[0]\n",
        "second_convolution = model.layers[1].get_weights()[0]\n",
        "third_convolution = model.layers[2].get_weights()[0]\n",
        "fully_connected = model.layers[4].get_weights()[0]\n",
        "\n",
        "f1 = open(\"first_convolution.txt\", \"w\")\n",
        "first_kernel_size = len(first_convolution)\n",
        "f1.write(f'#define KERNEL_SIZE_1 {first_kernel_size}\\n')\n",
        "f1.write(f'float first_convolution[KERNEL_SIZE_1][KERNEL_SIZE_1];\\n')\n",
        "for i in range(first_kernel_size):\n",
        "  for j in range(first_kernel_size):\n",
        "      f1.write(f'first_convolution[{i}][{j}]={first_convolution[i][j][0][0]};\\n')\n",
        "f1.close()\n",
        "\n",
        "f2 = open(\"second_convolution.txt\", \"w\")\n",
        "second_kernel_size = len(second_convolution)\n",
        "f2.write(f'#define KERNEL_SIZE_2 {second_kernel_size}\\n')\n",
        "f2.write(f'float second_convolution[KERNEL_SIZE_2][KERNEL_SIZE_2];\\n')\n",
        "for i in range(second_kernel_size):\n",
        "  for j in range(second_kernel_size):\n",
        "    f2.write(f'second_convolution[{i}][{j}]={second_convolution[i][j][0][0]};\\n')\n",
        "f2.close()\n",
        "\n",
        "f3 = open(\"third_convolution.txt\", \"w\")\n",
        "third_kernel_size = len(third_convolution)\n",
        "f3.write(f'#define KERNEL_SIZE_3 {third_kernel_size}\\n')\n",
        "f3.write(f'float third_convolution[KERNEL_SIZE_3][KERNEL_SIZE_3];\\n')\n",
        "for i in range(third_kernel_size):\n",
        "  for j in range(third_kernel_size):\n",
        "    f3.write(f'third_convolution[{i}][{j}]={third_convolution[i][j][0][0]};\\n')\n",
        "f3.close()\n",
        "\n",
        "f4 = open(\"fully_connected.txt\", \"w\")\n",
        "flat_size = len(fully_connected)\n",
        "output_size = len(fully_connected[0])\n",
        "f4.write(f'#define FLAT_SIZE {flat_size}\\n')\n",
        "f4.write(f'#define OUTPUT_SIZE {output_size}\\n')\n",
        "f4.write(f'float fully_connected[FLAT_SIZE][OUTPUT_SIZE];\\n')\n",
        "for i in range(flat_size):\n",
        "  for j in range(output_size):\n",
        "    f4.write(f'fully_connected[{i}][{j}]={fully_connected[i][j]};\\n')\n",
        "f4.close()"
      ],
      "metadata": {
        "id": "mw0Ef02OJc-U"
      },
      "execution_count": null,
      "outputs": []
    },
    {
      "cell_type": "code",
      "source": [
        "def save_image(k):\n",
        "  fimg = open(f\"image{k}.txt\", \"w\")\n",
        "  image_size = test_images[k].shape[0]\n",
        "  fimg.write(f'#define IMAGE_SIZE {image_size}\\n')\n",
        "  fimg.write(f'float image[IMAGE_SIZE][IMAGE_SIZE];\\n')\n",
        "  for i in range(image_size):\n",
        "    for j in range(image_size):\n",
        "        fimg.write(f'image[{i}][{j}]={test_images[k][i][j][0]};\\n')\n",
        "  fimg.close()"
      ],
      "metadata": {
        "id": "lTlCuBSm7KVE"
      },
      "execution_count": null,
      "outputs": []
    },
    {
      "cell_type": "code",
      "source": [
        "save_image(0)\n",
        "save_image(1)\n",
        "save_image(2)\n",
        "save_image(3)\n",
        "save_image(4)\n",
        "save_image(5)\n",
        "save_image(6)\n",
        "save_image(7)\n",
        "save_image(8)\n",
        "save_image(9)"
      ],
      "metadata": {
        "id": "0il-scQbNN_7"
      },
      "execution_count": null,
      "outputs": []
    },
    {
      "cell_type": "markdown",
      "source": [
        "# Testing implementation of CNN execution"
      ],
      "metadata": {
        "id": "FiTkihLf277F"
      }
    },
    {
      "cell_type": "code",
      "source": [
        "test_labels[:10]"
      ],
      "metadata": {
        "colab": {
          "base_uri": "https://localhost:8080/"
        },
        "id": "gq7NkR1wHBws",
        "outputId": "a974ddb7-2517-47a8-b6ab-55e0463b897d"
      },
      "execution_count": null,
      "outputs": [
        {
          "output_type": "execute_result",
          "data": {
            "text/plain": [
              "array([7, 2, 1, 0, 4, 1, 4, 9, 5, 9], dtype=uint8)"
            ]
          },
          "metadata": {},
          "execution_count": 12
        }
      ]
    },
    {
      "cell_type": "code",
      "source": [
        "plt.imshow(test_images[8])"
      ],
      "metadata": {
        "colab": {
          "base_uri": "https://localhost:8080/",
          "height": 447
        },
        "id": "yY_3EVCvM-dh",
        "outputId": "0b241941-6e47-4bbb-ca60-e580ca65e551"
      },
      "execution_count": null,
      "outputs": [
        {
          "output_type": "execute_result",
          "data": {
            "text/plain": [
              "<matplotlib.image.AxesImage at 0x7ac0ae7677c0>"
            ]
          },
          "metadata": {},
          "execution_count": 13
        },
        {
          "output_type": "display_data",
          "data": {
            "text/plain": [
              "<Figure size 640x480 with 1 Axes>"
            ],
            "image/png": "[encoded data removed]"
          },
          "metadata": {}
        }
      ]
    },
    {
      "cell_type": "code",
      "source": [
        "def conv(input, kernel):\n",
        "  output = []\n",
        "  for i in range(input.shape[0]-kernel.shape[0]+1):\n",
        "    output.append([])\n",
        "    for j in range(input.shape[0]-kernel.shape[0]+1):\n",
        "      result = 0\n",
        "      for ki in range(kernel.shape[0]):\n",
        "        for kj in range(kernel.shape[1]):\n",
        "          result += kernel[ki][kj] * input[i+ki][j+kj]\n",
        "\n",
        "      if(result >= 0):\n",
        "        output[i].append(result[0][0])\n",
        "      else:\n",
        "        output[i].append(0)\n",
        "\n",
        "  return np.array(output)"
      ],
      "metadata": {
        "id": "6CkJmJoo7Xn7"
      },
      "execution_count": null,
      "outputs": []
    },
    {
      "cell_type": "code",
      "source": [
        "l1 = conv(test_images[3], first_convolution)\n",
        "l2 = conv(l1, second_convolution)\n",
        "l3 = conv(l2, third_convolution)\n",
        "flat = l3.reshape((1, -1))\n",
        "result = np.matmul(flat, fully_connected)\n",
        "\n",
        "sum = 0\n",
        "for i in range(len(result[0])):\n",
        "  sum += math.exp(result[0][i])\n",
        "\n",
        "for i in range(len(result[0])):\n",
        "  result[0][i] = math.exp(result[0][i]) / sum\n",
        "result = tf.exp(result) / tf.reduce_sum(tf.exp(result), 1, keepdims=True)"
      ],
      "metadata": {
        "id": "VYkuAPEIUhFz"
      },
      "execution_count": null,
      "outputs": []
    },
    {
      "cell_type": "code",
      "source": [
        "prediction = model.predict(test_images[0:5])"
      ],
      "metadata": {
        "colab": {
          "base_uri": "https://localhost:8080/"
        },
        "id": "jTRj_BRBDJue",
        "outputId": "0c3d994c-cc3c-4f6f-9595-14e59555e6a8"
      },
      "execution_count": null,
      "outputs": [
        {
          "output_type": "stream",
          "name": "stdout",
          "text": [
            "1/1 [==============================] - 0s 220ms/step\n"
          ]
        }
      ]
    }
  ]
}